{
 "cells": [
  {
   "cell_type": "code",
   "execution_count": 3,
   "metadata": {},
   "outputs": [],
   "source": [
    "import torch\n",
    "import torch.nn as nn\n",
    "import torch.nn.functional as F\n",
    "\n",
    "import torchvision as tv\n",
    "\n",
    "import numpy as np\n",
    "import os\n",
    "import cv2\n",
    "import matplotlib.pyplot as plt\n",
    "import tqdm"
   ]
  },
  {
   "cell_type": "code",
   "execution_count": 4,
   "metadata": {},
   "outputs": [],
   "source": [
    "class Dataset2class(torch.utils.data.Dataset):\n",
    "    def __init__(self, path1:str, path2:str):\n",
    "        super().__init__()\n",
    "\n",
    "        self.path1 = path1\n",
    "        self.path2 = path2\n",
    "\n",
    "        self.list1 = sorted(os.listdir(self.path1))\n",
    "        self.list2 = sorted(os.listdir(self.path2))\n",
    "\n",
    "    def __len__(self):\n",
    "        return len(self.list1) + len(self.list2)\n",
    "\n",
    "    def __getitem__(self, index):\n",
    "        class_id = 0 if index % self.__len__() < len(self.list1) else 1\n",
    "        index %= len(self.list2 if class_id else self.list1)\n",
    "\n",
    "        img_name = (self.list2 if class_id else self.list1)[index]\n",
    "        img_path = os.path.join(self.path2 if class_id else self.path1, img_name)\n",
    "\n",
    "        return cv2.imread(img_path, cv2.IMREAD_COLOR), class_id"
   ]
  }
 ],
 "metadata": {
  "kernelspec": {
   "display_name": ".venv",
   "language": "python",
   "name": "python3"
  },
  "language_info": {
   "codemirror_mode": {
    "name": "ipython",
    "version": 3
   },
   "file_extension": ".py",
   "mimetype": "text/x-python",
   "name": "python",
   "nbconvert_exporter": "python",
   "pygments_lexer": "ipython3",
   "version": "3.11.2"
  },
  "orig_nbformat": 4
 },
 "nbformat": 4,
 "nbformat_minor": 2
}
